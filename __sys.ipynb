{
 "cells": [
  {
   "cell_type": "markdown",
   "id": "e99e80ab-104e-4e63-8a16-5219eaefbba0",
   "metadata": {},
   "source": [
    "# Install dependencies\n",
    "\n",
    "Add here dependencies used by every Jupiter Notebook in this repository.\n",
    "\n",
    "To install dependencies execute the code cell below.\n",
    "\n",
    "The output of the code cell **must not be committed** to the repository code.\n",
    "\n",
    "Tip: to empty the cell output on _JupiterLab_ convert it to _Raw_ and then back to _Code_."
   ]
  },
  {
   "cell_type": "code",
   "execution_count": null,
   "id": "7d313bae-a94d-4157-8507-43c54f5696d1",
   "metadata": {},
   "outputs": [],
   "source": [
    "import sys\n",
    "\n",
    "!{sys.executable} -m pip install matplotlib\n",
    "!{sys.executable} -m pip install scipy"
   ]
  },
  {
   "cell_type": "markdown",
   "id": "0c42cf4d",
   "metadata": {},
   "source": [
    "## VSCode integration (optional)\n",
    "\n",
    "Install the [Jupyter Extension](https://marketplace.visualstudio.com/items?itemName=ms-toolsai.jupyter) and the [Python Extension](https://marketplace.visualstudio.com/items?itemName=ms-python.python).\n",
    "\n",
    "Assuming you installed Jupyter with `brew` on Mac, it provides a `python` executable with a _virtual environment_ which means it will install all dependencies in that folder.\n",
    "You need to point _VSCode_ to the _Python environment_ provided by _Jupyter_.\n",
    "To do so, create a temporary _foo.py_ file; select your Python interpreter by clicking on the status bar (see also instructions in _Python Extension_); choose _Enter interpreter path_ and paste the output you get from the cell below.\n",
    "Notice that the cell must be executed on _JupyterLab_ browser interface first.\n",
    "\n",
    "Once you add the _Python environment_ provided by _Jupyter_ to _VSCode_ you are able to select it as a _Jupyter Kernel_ and run the cell above to install dependencies."
   ]
  },
  {
   "cell_type": "code",
   "execution_count": null,
   "id": "f20873e1-ed5b-491f-9d7e-9d7586eb9459",
   "metadata": {},
   "outputs": [],
   "source": [
    "import sys\n",
    "\n",
    "# Dependencies will be installed nearby the executable.\n",
    "print(sys.executable)"
   ]
  }
 ],
 "metadata": {
  "kernelspec": {
   "display_name": "libexec",
   "language": "python",
   "name": "python3"
  },
  "language_info": {
   "codemirror_mode": {
    "name": "ipython",
    "version": 3
   },
   "file_extension": ".py",
   "mimetype": "text/x-python",
   "name": "python",
   "nbconvert_exporter": "python",
   "pygments_lexer": "ipython3",
   "version": "3.12.7"
  }
 },
 "nbformat": 4,
 "nbformat_minor": 5
}
